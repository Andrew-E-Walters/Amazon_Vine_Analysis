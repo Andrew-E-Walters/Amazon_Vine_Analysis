{
  "nbformat": 4,
  "nbformat_minor": 0,
  "metadata": {
    "colab": {
      "provenance": [],
      "collapsed_sections": []
    },
    "kernelspec": {
      "name": "python3",
      "display_name": "Python 3"
    },
    "language_info": {
      "name": "python"
    }
  },
  "cells": [
    {
      "cell_type": "code",
      "execution_count": 4,
      "metadata": {
        "colab": {
          "base_uri": "https://localhost:8080/"
        },
        "id": "BzkXvrzLgSsJ",
        "outputId": "43a6c4e6-58cb-4516-f1a2-cd4ec383573a"
      },
      "outputs": [
        {
          "output_type": "stream",
          "name": "stdout",
          "text": [
            "\r0% [Working]\r            \rHit:1 http://archive.ubuntu.com/ubuntu bionic InRelease\n",
            "\r0% [Waiting for headers] [Connected to cloud.r-project.org (99.86.38.61)] [Wait\r0% [1 InRelease gpgv 242 kB] [Waiting for headers] [Waiting for headers] [Waiti\r                                                                               \rIgn:2 https://developer.download.nvidia.com/compute/machine-learning/repos/ubuntu1804/x86_64  InRelease\n",
            "\r0% [1 InRelease gpgv 242 kB] [Waiting for headers] [Waiting for headers] [Waiti\r                                                                               \rGet:3 https://cloud.r-project.org/bin/linux/ubuntu bionic-cran40/ InRelease [3,626 B]\n",
            "\r0% [1 InRelease gpgv 242 kB] [Waiting for headers] [Waiting for headers] [Waiti\r                                                                               \rGet:4 http://archive.ubuntu.com/ubuntu bionic-updates InRelease [88.7 kB]\n",
            "Hit:5 https://developer.download.nvidia.com/compute/cuda/repos/ubuntu1804/x86_64  InRelease\n",
            "Hit:6 https://developer.download.nvidia.com/compute/machine-learning/repos/ubuntu1804/x86_64  Release\n",
            "Get:7 http://security.ubuntu.com/ubuntu bionic-security InRelease [88.7 kB]\n",
            "Get:8 http://ppa.launchpad.net/c2d4u.team/c2d4u4.0+/ubuntu bionic InRelease [15.9 kB]\n",
            "Get:9 http://archive.ubuntu.com/ubuntu bionic-backports InRelease [83.3 kB]\n",
            "Hit:10 http://ppa.launchpad.net/cran/libgit2/ubuntu bionic InRelease\n",
            "Get:11 https://cloud.r-project.org/bin/linux/ubuntu bionic-cran40/ Packages [101 kB]\n",
            "Hit:12 http://ppa.launchpad.net/deadsnakes/ppa/ubuntu bionic InRelease\n",
            "Hit:14 http://ppa.launchpad.net/graphics-drivers/ppa/ubuntu bionic InRelease\n",
            "Get:15 http://archive.ubuntu.com/ubuntu bionic-updates/universe amd64 Packages [2,332 kB]\n",
            "Get:16 http://archive.ubuntu.com/ubuntu bionic-updates/main amd64 Packages [3,472 kB]\n",
            "Get:17 http://ppa.launchpad.net/c2d4u.team/c2d4u4.0+/ubuntu bionic/main Sources [2,216 kB]\n",
            "Get:18 http://security.ubuntu.com/ubuntu bionic-security/universe amd64 Packages [1,554 kB]\n",
            "Get:19 http://ppa.launchpad.net/c2d4u.team/c2d4u4.0+/ubuntu bionic/main amd64 Packages [1,134 kB]\n",
            "Get:20 http://security.ubuntu.com/ubuntu bionic-security/main amd64 Packages [3,040 kB]\n",
            "Fetched 14.1 MB in 4s (3,569 kB/s)\n",
            "Reading package lists... Done\n"
          ]
        }
      ],
      "source": [
        "import os\n",
        "# Find the latest version of spark 3.0 from http://www.apache.org/dist/spark/ and enter as the spark version\n",
        "# For example:\n",
        "# spark_version = 'spark-3.0.3'\n",
        "spark_version = 'spark-3.1.3'\n",
        "os.environ['SPARK_VERSION']=spark_version\n",
        "\n",
        "# Install Spark and Java\n",
        "!apt-get update\n",
        "!apt-get install openjdk-11-jdk-headless -qq > /dev/null\n",
        "!wget -q http://www.apache.org/dist/spark/$SPARK_VERSION/$SPARK_VERSION-bin-hadoop2.7.tgz\n",
        "!tar xf $SPARK_VERSION-bin-hadoop2.7.tgz\n",
        "!pip install -q findspark\n",
        "\n",
        "# Set Environment Variables\n",
        "import os\n",
        "os.environ[\"JAVA_HOME\"] = \"/usr/lib/jvm/java-11-openjdk-amd64\"\n",
        "os.environ[\"SPARK_HOME\"] = f\"/content/{spark_version}-bin-hadoop2.7\"\n",
        "\n",
        "# Start a SparkSession\n",
        "import findspark\n",
        "findspark.init()"
      ]
    },
    {
      "cell_type": "code",
      "source": [
        "from pyspark.sql import SparkSession\n",
        "spark = SparkSession.builder.appName(\"M16-Amazon-Challenge\").config(\"spark.driver.extraClassPath\",\"/content/postgresql-42.2.16.jar\").getOrCreate()"
      ],
      "metadata": {
        "id": "DDoQbfvkhpXS"
      },
      "execution_count": 5,
      "outputs": []
    },
    {
      "cell_type": "code",
      "source": [
        "from pyspark import SparkFiles\n",
        "url = \"https://s3.amazonaws.com/amazon-reviews-pds/tsv/amazon_reviews_us_Sports_v1_00.tsv.gz\"\n",
        "spark.sparkContext.addFile(url)\n",
        "df = spark.read.csv(SparkFiles.get(\"amazon_reviews_us_Sports_v1_00.tsv.gz\"), sep=\"\\t\", header=True)\n",
        "df.show(50)"
      ],
      "metadata": {
        "colab": {
          "base_uri": "https://localhost:8080/"
        },
        "id": "E3fhzn3ShuJI",
        "outputId": "cba6fc72-af2a-43a2-a312-63f96d9ccd79"
      },
      "execution_count": 6,
      "outputs": [
        {
          "output_type": "stream",
          "name": "stdout",
          "text": [
            "+-----------+-----------+--------------+----------+--------------+--------------------+----------------+-----------+-------------+-----------+----+-----------------+--------------------+--------------------+-----------+\n",
            "|marketplace|customer_id|     review_id|product_id|product_parent|       product_title|product_category|star_rating|helpful_votes|total_votes|vine|verified_purchase|     review_headline|         review_body|review_date|\n",
            "+-----------+-----------+--------------+----------+--------------+--------------------+----------------+-----------+-------------+-----------+----+-----------------+--------------------+--------------------+-----------+\n",
            "|         US|   48945260|R1WBPB8MDCCN8F|B012P7UPSM|     409940130|Chicago Blackhawk...|          Sports|          5|            0|          0|   N|                N|   LOVE IT. 6 stars!|Bought this last ...| 2015-08-31|\n",
            "|         US|    5782091|R32M0YEWV77XG8|B001GQ3VHG|     657746679|Copag Poker Size ...|          Sports|          5|            1|          1|   N|                Y|       Shipped fast.|These are the bes...| 2015-08-31|\n",
            "|         US|   45813853| RR8V7WR27NXJ5|B008VS8M58|     962442336|Baoer 223 5.56x45...|          Sports|          1|            0|          0|   N|                Y|Good idea if it w...|It looks good, th...| 2015-08-31|\n",
            "|         US|    1593730|R1MHO5V9Z932AY|B005F06F4U|      74305227|All Terrain Tackl...|          Sports|          5|            0|          0|   N|                Y|          Five Stars|           Great jig| 2015-08-31|\n",
            "|         US|   29605511|R16PD71086BD2V|B010T4IE2C|     787185588|Swim Cap - 3 Pack...|          Sports|          5|            0|          1|   N|                N|Great quality sil...|I love swimming i...| 2015-08-31|\n",
            "|         US|   11112959|R1Z8IFGWTRWXT6|B004RKJGLS|      94127483|adidas Men's Spor...|          Sports|          3|            0|          0|   N|                Y|Love everything a...|Love everything a...| 2015-08-31|\n",
            "|         US|     108031|R3AUMSHAW73HWN|B005V3DCBU|     526977496|Nike Men's Perfor...|          Sports|          4|            2|          3|   N|                N|          Four Stars|not the best sock...| 2015-08-31|\n",
            "|         US|   13981540|R2KWDWFOHGX6FL|B00MHT9WN8|      26521265|Green Bay Packers...|          Sports|          5|            0|          0|   N|                Y|          Five Stars|             Love it| 2015-08-31|\n",
            "|         US|   37993909|R3H9543FWBWFBU|B001CSIRQ8|     652431165|Isokinetics Inc. ...|          Sports|          5|            1|          1|   N|                Y|can't wait to use it|Unfortunately I h...| 2015-08-31|\n",
            "|         US|   26040213| RUANXOQ9W3OU5|B001KZ3NOO|     635861713|Aottop Quality El...|          Sports|          5|            0|          0|   N|                Y|great product, ac...|fast shipping , g...| 2015-08-31|\n",
            "|         US|   34657602|R31673RTGEZSW7|B00005RCQS|      72099763|Everlast 2'x6' Fo...|          Sports|          5|            2|          2|   N|                Y|this mat is a pre...|If you have a ter...| 2015-08-31|\n",
            "|         US|   14346192|R22OQLFSH42RCM|B00FA7RWVI|     757354022|OGIO Men's Shredd...|          Sports|          5|            1|          1|   N|                Y|  Versatile Golf Bag|Love this golf ba...| 2015-08-31|\n",
            "|         US|   38782687|R12LEL4F3TSZUJ|B000MMH2HU|     272402599|Blue Sea Systems ...|          Sports|          5|            2|          2|   N|                Y|Great AC Main Bre...|Perfect mounting ...| 2015-08-31|\n",
            "|         US|   27138575|R2L9XWD03072NI|B00WJOATDS|     375070208|Zengi AR15 45 Deg...|          Sports|          5|            1|          2|   N|                Y|   Nice, some quirks|For the cost you ...| 2015-08-31|\n",
            "|         US|   11838771|R2K0U91HIACANO|B00BOM2JNY|     639666785|Black Mountain Pr...|          Sports|          5|            0|          0|   N|                N|55 cm - Good qual...|The ball is very ...| 2015-08-31|\n",
            "|         US|     535800|R29SP6MBT7MXG7|B00OD5GAFM|      38715442|Trijicon VCOG 1-6...|          Sports|          4|            3|          3|   N|                Y|    Very nice scope.|Very nice scope.....| 2015-08-31|\n",
            "|         US|   23156579|R31XREAAMATEPY|B00CAHDC1K|      57088652|Naruto Headband f...|          Sports|          5|            0|          0|   N|                Y|was for my son an...|           This item| 2015-08-31|\n",
            "|         US|   48107879|R2116AVB87SO38|B004NLHXLG|     114125984|Under Armour Men'...|          Sports|          5|            0|          0|   N|                Y|          Five Stars|greatest socks i ...| 2015-08-31|\n",
            "|         US|   27260960|R3RDVBB6O0X3HW|B00L7OANWI|     883962979|Yes4All Deep Tiss...|          Sports|          5|            0|          0|   N|                Y|          Five Stars|Perfect for home ...| 2015-08-31|\n",
            "|         US|   39537314|R3LW5T149LKKQM|B0085PPSIQ|     691479969|Lansky PS-MED01 B...|          Sports|          4|            0|          0|   N|                Y|A bit heavy for p...|Very good product...| 2015-08-31|\n",
            "|         US|   18457385|R1THNVUD55C27K|B003WWQO94|     567685590|Champion Sports C...|          Sports|          5|            0|          0|   N|                Y|These are bright ...|Pleasantly surpri...| 2015-08-31|\n",
            "|         US|   28689758|R2V1NIGCEDQMWR|B00APSXA54|     356387565|Callaway Men's RA...|          Sports|          5|            0|          0|   N|                Y|They get the ball...|Tried several set...| 2015-08-31|\n",
            "|         US|   35214079| RIJXY4FJE2U7O|B00ZPTA41G|     511703314|NCAA Hover Helmet...|          Sports|          5|            0|          0|   N|                Y|Very cool. Great ...|Very cool.  Great...| 2015-08-31|\n",
            "|         US|    7572409|R3OI78MWLX18YH|B00AAHIRKS|     191288137|Gerber 31-001098 ...|          Sports|          1|            1|          2|   N|                Y|The cheapest plas...|I've never been s...| 2015-08-31|\n",
            "|         US|   41582860|R1NP0HLBWDXTG3|B0099WGZRW|     521874476|InForce WML, Mult...|          Sports|          1|            0|          0|   N|                Y|Mode selection le...|50%, had the mode...| 2015-08-31|\n",
            "|         US|   38139271| RFZBXOMZWEYPV|B00K5503O8|      40527220|Fixxxer Rear Cove...|          Sports|          5|            0|          0|   N|                Y|          Five Stars|As described, fit...| 2015-08-31|\n",
            "|         US|     106639|R1XW7YNDY1HHV2|B00GV6J8WI|     896379297|Wilson NFL MVP Fo...|          Sports|          5|            0|          0|   N|                N|       Nice football|Great ball. Feels...| 2015-08-31|\n",
            "|         US|   22885356| RXQWVQ6XDQ4L6|B00NSWHZCS|     396708923|Rukket 10x7ft Haa...|          Sports|          5|            1|          2|   N|                Y|Best net for a gr...|The netting and m...| 2015-08-31|\n",
            "|         US|   38468354| RPCITKSJ62BBH|B013F06TCO|     273588985|Rodut (TM) Adjust...|          Sports|          3|            0|          0|   N|                N|         Three Stars|It's a little too...| 2015-08-31|\n",
            "|         US|   11228537|R10H8KSR2XWCRO|B00OYSEH1M|     101613319|Kidder Infant Fle...|          Sports|          5|            0|          0|   N|                Y|        comfortable.|Very comfortable ...| 2015-08-31|\n",
            "|         US|   15342235|R1F6HW2IAXFZOE|B00NAHA6HC|     330547128|Ultimate Arms Gea...|          Sports|          5|            0|          0|   N|                Y|          Five Stars|         A++++++++++| 2015-08-31|\n",
            "|         US|   28088591|R34TV89J7GOPWJ|B00I1CJOA6|     728149528|Under Armour Men'...|          Sports|          5|            0|          0|   N|                Y|          Five Stars|My boyfriends fav...| 2015-08-31|\n",
            "|         US|   20093436| RD8O39QNCLDJN|B002TSPE5C|     942225482|     Sitting Stepper|          Sports|          5|            0|          0|   N|                Y|          Five Stars|          fun to use| 2015-08-31|\n",
            "|         US|   22750110| RHYA42XJUM2TE|B00545UBYQ|     904724650|Leather Front Poc...|          Sports|          5|            1|          1|   N|                Y|          Five Stars|Exactly what I ne...| 2015-08-31|\n",
            "|         US|   44801274|R1DUOZYOS0NA7Y|B00169CU66|     605693953|Total Gym XLS – U...|          Sports|          4|            0|          1|   N|                Y|          Four Stars|I have enjoyed my...| 2015-08-31|\n",
            "|         US|    1454979|R2INQ28347ESLU|B005DUUL9W|     191246478|BEP Battery Switches|          Sports|          5|            0|          0|   N|                Y|          Five Stars|No need to hassle...| 2015-08-31|\n",
            "|         US|   36539492| RTWRRMR2Q5BO5|B00T4XAVKS|     972354716|Black & Denver Or...|          Sports|          3|            0|          0|   N|                Y|        Dissapointed|         Kinda thin.| 2015-08-31|\n",
            "|         US|   21391837|R2EJXGTZLFDBFS|B00806KGY6|     647250004|Covert Code Black...|          Sports|          4|            1|          1|   N|                Y|       Good purchase|I purchased this ...| 2015-08-31|\n",
            "|         US|   23536197|R3EE10IYRRQG98|B001CF3L80|       3390781|Jugs Bucket of Sm...|          Sports|          5|            0|          1|   N|                Y|Incredible Purcha...|Do you really nee...| 2015-08-31|\n",
            "|         US|   44877916|R2QL1B82PSWQ00|B00162UHEA|     839287489|Lee Precision 3 J...|          Sports|          5|            0|          0|   N|                Y|          Five Stars|jaw chuck nice an...| 2015-08-31|\n",
            "|         US|   41703431|R1XZYB1K4IANYR|B000IDRRY6|     385405694|Rothco Vintage Pa...|          Sports|          5|            0|          0|   N|                Y|Best pair of pant...|As soft as sweatp...| 2015-08-31|\n",
            "|         US|    2716579|R1SDRUAJ561AY3|B00EY83KQ0|     920584855|Phileex Fishing S...|          Sports|          3|            0|          0|   N|                Y|         It works...|Wish it had rubbe...| 2015-08-31|\n",
            "|         US|   18050517|R3DF7PAB9WCAJ5|B00JSTQQNE|     958749274|Stealth Cam G42NG...|          Sports|          5|            0|          2|   N|                Y|stealth Cam    mo...|I am  very happy ...| 2015-08-31|\n",
            "|         US|   24248336|R200VSYPGSLIHD|B0085AOZIK|     851119831|Spalding NBA Slam...|          Sports|          5|            0|          0|   N|                Y|             Love it|      Great quality!| 2015-08-31|\n",
            "|         US|   16431602|R12189PQ9MYPPI|B007595TKU|     326071070|Exerpeutic Foldin...|          Sports|          5|            0|          0|   N|                Y|          Excellent!|So happy with thi...| 2015-08-31|\n",
            "|         US|     991167| RRKE0LYGHCTV3|B007SXKVY2|     749754886|TAC Force TF-710 ...|          Sports|          5|            0|          0|   N|                Y|              Great!|This knife can he...| 2015-08-31|\n",
            "|         US|   38444630|R31UBBCTE9O56G|B012BBJ49I|     286591943|Zipper Sweatband ...|          Sports|          5|            1|          1|   N|                N|This Is A Super H...|This is a great l...| 2015-08-31|\n",
            "|         US|   13243036|R1IL7WRJUVML9S|B003DV9JGO|     158449755|KT TAPE PRO Kines...|          Sports|          3|            0|          0|   N|                Y|         Three Stars|I ordered the blu...| 2015-08-31|\n",
            "|         US|   31278317|R2AFWPP103J9UV|B00SSC96XY|     752373394|Shandali Gosweat ...|          Sports|          5|            0|          0|   N|                Y|use it for my spi...|lovee it!! use it...| 2015-08-31|\n",
            "|         US|   36827489|R1W0K6JGI1Q0ES|B0006Z9YKQ|      20754495|Tie Down Kit (Pac...|          Sports|          5|            0|          0|   N|                Y|          Five Stars|    Worked perfectly| 2015-08-31|\n",
            "+-----------+-----------+--------------+----------+--------------+--------------------+----------------+-----------+-------------+-----------+----+-----------------+--------------------+--------------------+-----------+\n",
            "only showing top 50 rows\n",
            "\n"
          ]
        }
      ]
    },
    {
      "cell_type": "code",
      "source": [
        "from pyspark.sql.functions import to_date"
      ],
      "metadata": {
        "id": "HkCLQzQwhyjk"
      },
      "execution_count": 7,
      "outputs": []
    },
    {
      "cell_type": "code",
      "source": [
        "# Create the vine_table. DataFrame\n",
        "vine_table = df.select([\"review_id\", \"star_rating\", \"helpful_votes\", \"total_votes\",\"vine\", \"verified_purchase\"])\n",
        "vine_table.show(20)"
      ],
      "metadata": {
        "colab": {
          "base_uri": "https://localhost:8080/"
        },
        "id": "HzB19A4Bh1il",
        "outputId": "a63df32a-756c-4764-8430-49a471a1bac4"
      },
      "execution_count": 8,
      "outputs": [
        {
          "output_type": "stream",
          "name": "stdout",
          "text": [
            "+--------------+-----------+-------------+-----------+----+-----------------+\n",
            "|     review_id|star_rating|helpful_votes|total_votes|vine|verified_purchase|\n",
            "+--------------+-----------+-------------+-----------+----+-----------------+\n",
            "|R1WBPB8MDCCN8F|          5|            0|          0|   N|                N|\n",
            "|R32M0YEWV77XG8|          5|            1|          1|   N|                Y|\n",
            "| RR8V7WR27NXJ5|          1|            0|          0|   N|                Y|\n",
            "|R1MHO5V9Z932AY|          5|            0|          0|   N|                Y|\n",
            "|R16PD71086BD2V|          5|            0|          1|   N|                N|\n",
            "|R1Z8IFGWTRWXT6|          3|            0|          0|   N|                Y|\n",
            "|R3AUMSHAW73HWN|          4|            2|          3|   N|                N|\n",
            "|R2KWDWFOHGX6FL|          5|            0|          0|   N|                Y|\n",
            "|R3H9543FWBWFBU|          5|            1|          1|   N|                Y|\n",
            "| RUANXOQ9W3OU5|          5|            0|          0|   N|                Y|\n",
            "|R31673RTGEZSW7|          5|            2|          2|   N|                Y|\n",
            "|R22OQLFSH42RCM|          5|            1|          1|   N|                Y|\n",
            "|R12LEL4F3TSZUJ|          5|            2|          2|   N|                Y|\n",
            "|R2L9XWD03072NI|          5|            1|          2|   N|                Y|\n",
            "|R2K0U91HIACANO|          5|            0|          0|   N|                N|\n",
            "|R29SP6MBT7MXG7|          4|            3|          3|   N|                Y|\n",
            "|R31XREAAMATEPY|          5|            0|          0|   N|                Y|\n",
            "|R2116AVB87SO38|          5|            0|          0|   N|                Y|\n",
            "|R3RDVBB6O0X3HW|          5|            0|          0|   N|                Y|\n",
            "|R3LW5T149LKKQM|          4|            0|          0|   N|                Y|\n",
            "+--------------+-----------+-------------+-----------+----+-----------------+\n",
            "only showing top 20 rows\n",
            "\n"
          ]
        }
      ]
    },
    {
      "cell_type": "code",
      "source": [
        "D2_df = vine_table.filter(\"total_votes>=20\")\n",
        "D2_df.show(10)"
      ],
      "metadata": {
        "colab": {
          "base_uri": "https://localhost:8080/"
        },
        "id": "PPlfT24OipFo",
        "outputId": "459488d6-1b82-46d1-8c7c-1f530efa13ce"
      },
      "execution_count": 9,
      "outputs": [
        {
          "output_type": "stream",
          "name": "stdout",
          "text": [
            "+--------------+-----------+-------------+-----------+----+-----------------+\n",
            "|     review_id|star_rating|helpful_votes|total_votes|vine|verified_purchase|\n",
            "+--------------+-----------+-------------+-----------+----+-----------------+\n",
            "|R1B4753QMTD8ON|          5|           32|         32|   N|                N|\n",
            "|R28BVHOEL6GCHZ|          5|           21|         21|   N|                Y|\n",
            "|R27IB4BRKO71I0|          2|           16|         20|   N|                Y|\n",
            "| RJ86OW12Y4NRL|          5|          124|        128|   N|                Y|\n",
            "|R3KRABOWCH6ZE4|          1|           48|         65|   N|                Y|\n",
            "|R1OAKARA30DIWX|          4|           83|         89|   N|                Y|\n",
            "|R36LSV4WQ4VB1K|          5|           17|         22|   N|                N|\n",
            "|R18BTOE5UGN7UA|          5|           26|         28|   N|                Y|\n",
            "|R1DXLGDSK2WMLD|          4|           22|         22|   N|                N|\n",
            "| RZG2OHQ12YYZI|          5|           30|         31|   N|                Y|\n",
            "+--------------+-----------+-------------+-----------+----+-----------------+\n",
            "only showing top 10 rows\n",
            "\n"
          ]
        }
      ]
    },
    {
      "cell_type": "code",
      "source": [
        "from pyspark.sql.functions import col\n",
        "D2_Percent_Helpful = D2_df.withColumn('percent_helpful_votes',D2_df['helpful_votes']/D2_df['total_votes']).alias('percent_helpful_votes').filter(col(\"percent_helpful_votes\") >= 0.5)\n",
        "D2_Percent_Helpful.show(10)"
      ],
      "metadata": {
        "colab": {
          "base_uri": "https://localhost:8080/"
        },
        "id": "PKlBXU89isrf",
        "outputId": "48ecf88a-620e-4eaa-f0c2-6c9db1ff372c"
      },
      "execution_count": 10,
      "outputs": [
        {
          "output_type": "stream",
          "name": "stdout",
          "text": [
            "+--------------+-----------+-------------+-----------+----+-----------------+---------------------+\n",
            "|     review_id|star_rating|helpful_votes|total_votes|vine|verified_purchase|percent_helpful_votes|\n",
            "+--------------+-----------+-------------+-----------+----+-----------------+---------------------+\n",
            "|R1B4753QMTD8ON|          5|           32|         32|   N|                N|                  1.0|\n",
            "|R28BVHOEL6GCHZ|          5|           21|         21|   N|                Y|                  1.0|\n",
            "|R27IB4BRKO71I0|          2|           16|         20|   N|                Y|                  0.8|\n",
            "| RJ86OW12Y4NRL|          5|          124|        128|   N|                Y|              0.96875|\n",
            "|R3KRABOWCH6ZE4|          1|           48|         65|   N|                Y|   0.7384615384615385|\n",
            "|R1OAKARA30DIWX|          4|           83|         89|   N|                Y|   0.9325842696629213|\n",
            "|R36LSV4WQ4VB1K|          5|           17|         22|   N|                N|   0.7727272727272727|\n",
            "|R18BTOE5UGN7UA|          5|           26|         28|   N|                Y|   0.9285714285714286|\n",
            "|R1DXLGDSK2WMLD|          4|           22|         22|   N|                N|                  1.0|\n",
            "| RZG2OHQ12YYZI|          5|           30|         31|   N|                Y|    0.967741935483871|\n",
            "+--------------+-----------+-------------+-----------+----+-----------------+---------------------+\n",
            "only showing top 10 rows\n",
            "\n"
          ]
        }
      ]
    },
    {
      "cell_type": "code",
      "source": [
        "# Filter on exact Vines with Y\n",
        "Vine_Review = D2_Percent_Helpful.filter(D2_Percent_Helpful[\"vine\"] == \"Y\").show(10)"
      ],
      "metadata": {
        "colab": {
          "base_uri": "https://localhost:8080/"
        },
        "id": "r8lEtKU4iu-L",
        "outputId": "21c9b0e4-093e-455b-cc7d-e1ad9d77e278"
      },
      "execution_count": 13,
      "outputs": [
        {
          "output_type": "stream",
          "name": "stdout",
          "text": [
            "+--------------+-----------+-------------+-----------+----+-----------------+---------------------+\n",
            "|     review_id|star_rating|helpful_votes|total_votes|vine|verified_purchase|percent_helpful_votes|\n",
            "+--------------+-----------+-------------+-----------+----+-----------------+---------------------+\n",
            "|R32OMS1LSDRCOB|          4|           27|         31|   Y|                N|   0.8709677419354839|\n",
            "|R2IPKK4I0XRCFR|          4|           16|         21|   Y|                N|   0.7619047619047619|\n",
            "| RXYYJ8SGI9IX6|          5|           36|         41|   Y|                N|   0.8780487804878049|\n",
            "|R1SAUBFC7T6JHC|          5|           73|         75|   Y|                N|   0.9733333333333334|\n",
            "|R329HVJKKHWSG3|          5|           59|         59|   Y|                N|                  1.0|\n",
            "| RZL21K50M52KW|          5|           22|         22|   Y|                N|                  1.0|\n",
            "|R24RC5J2D92SBE|          5|           19|         20|   Y|                N|                 0.95|\n",
            "|R1803HITBY7Y08|          4|           92|        104|   Y|                N|   0.8846153846153846|\n",
            "|R1888B8Z6QWYZ4|          4|           18|         25|   Y|                N|                 0.72|\n",
            "|R1S538NK2I5PRL|          5|           21|         22|   Y|                N|   0.9545454545454546|\n",
            "+--------------+-----------+-------------+-----------+----+-----------------+---------------------+\n",
            "only showing top 10 rows\n",
            "\n"
          ]
        }
      ]
    },
    {
      "cell_type": "code",
      "source": [
        "# Filter on the Vines with N\n",
        "Non_Vine_Review = D2_Percent_Helpful.filter(D2_Percent_Helpful[\"vine\"] == \"N\").show(10)"
      ],
      "metadata": {
        "colab": {
          "base_uri": "https://localhost:8080/"
        },
        "id": "brMsxp1ti0SI",
        "outputId": "fa8fccd6-8ba9-4917-d3cc-2d7aeda236ce"
      },
      "execution_count": 14,
      "outputs": [
        {
          "output_type": "stream",
          "name": "stdout",
          "text": [
            "+--------------+-----------+-------------+-----------+----+-----------------+---------------------+\n",
            "|     review_id|star_rating|helpful_votes|total_votes|vine|verified_purchase|percent_helpful_votes|\n",
            "+--------------+-----------+-------------+-----------+----+-----------------+---------------------+\n",
            "|R1B4753QMTD8ON|          5|           32|         32|   N|                N|                  1.0|\n",
            "|R28BVHOEL6GCHZ|          5|           21|         21|   N|                Y|                  1.0|\n",
            "|R27IB4BRKO71I0|          2|           16|         20|   N|                Y|                  0.8|\n",
            "| RJ86OW12Y4NRL|          5|          124|        128|   N|                Y|              0.96875|\n",
            "|R3KRABOWCH6ZE4|          1|           48|         65|   N|                Y|   0.7384615384615385|\n",
            "|R1OAKARA30DIWX|          4|           83|         89|   N|                Y|   0.9325842696629213|\n",
            "|R36LSV4WQ4VB1K|          5|           17|         22|   N|                N|   0.7727272727272727|\n",
            "|R18BTOE5UGN7UA|          5|           26|         28|   N|                Y|   0.9285714285714286|\n",
            "|R1DXLGDSK2WMLD|          4|           22|         22|   N|                N|                  1.0|\n",
            "| RZG2OHQ12YYZI|          5|           30|         31|   N|                Y|    0.967741935483871|\n",
            "+--------------+-----------+-------------+-----------+----+-----------------+---------------------+\n",
            "only showing top 10 rows\n",
            "\n"
          ]
        }
      ]
    },
    {
      "cell_type": "code",
      "source": [
        "# Get total Count\n",
        "Unique_Reviews = D2_Percent_Helpful.drop_duplicates(subset=['review_id']).count()\n",
        "print(Unique_Reviews)"
      ],
      "metadata": {
        "colab": {
          "base_uri": "https://localhost:8080/"
        },
        "id": "E8kkly3hi35m",
        "outputId": "075568c2-b8e2-4b87-9da9-81546bb0ffcf"
      },
      "execution_count": 15,
      "outputs": [
        {
          "output_type": "stream",
          "name": "stdout",
          "text": [
            "61948\n"
          ]
        }
      ]
    },
    {
      "cell_type": "code",
      "source": [
        "# Y Vine Data \n",
        "Vine_Reviews = D2_Percent_Helpful.filter(D2_Percent_Helpful[\"vine\"] == \"Y\").count()\n",
        "Vine_Reviews_5Star = D2_Percent_Helpful.filter(D2_Percent_Helpful[\"vine\"] == \"Y\").filter(D2_Percent_Helpful[\"star_rating\"] == \"5\").count()\n",
        "Percentage_5_Star = Vine_Reviews_5Star / Vine_Reviews\n",
        "\n",
        "print(Vine_Reviews)\n",
        "print(Vine_Reviews_5Star)\n",
        "print(Percentage_5_Star)"
      ],
      "metadata": {
        "colab": {
          "base_uri": "https://localhost:8080/"
        },
        "id": "8lBy_7EXi78L",
        "outputId": "da4a75e2-71dd-4a43-fab6-b09af37f7570"
      },
      "execution_count": 16,
      "outputs": [
        {
          "output_type": "stream",
          "name": "stdout",
          "text": [
            "334\n",
            "139\n",
            "0.4161676646706587\n"
          ]
        }
      ]
    },
    {
      "cell_type": "code",
      "source": [
        "# N Vine Data \n",
        "Non_Vine_Reviews = D2_Percent_Helpful.filter(D2_Percent_Helpful[\"vine\"] == \"N\").count()\n",
        "Non_Vine_Reviews_5Star = D2_Percent_Helpful.filter(D2_Percent_Helpful[\"vine\"] == \"N\").filter(D2_Percent_Helpful[\"star_rating\"] == \"5\").count()\n",
        "Non_Percentage_5_Star = Non_Vine_Reviews_5Star / Non_Vine_Reviews\n",
        "\n",
        "print(Non_Vine_Reviews)\n",
        "print(Non_Vine_Reviews_5Star)\n",
        "print(Non_Percentage_5_Star)"
      ],
      "metadata": {
        "colab": {
          "base_uri": "https://localhost:8080/"
        },
        "id": "iL9NaYh_i_yL",
        "outputId": "12c8b7d2-f6dc-4128-bfbc-3b9f0a53f545"
      },
      "execution_count": 17,
      "outputs": [
        {
          "output_type": "stream",
          "name": "stdout",
          "text": [
            "61614\n",
            "32665\n",
            "0.5301554841432142\n"
          ]
        }
      ]
    },
    {
      "cell_type": "code",
      "source": [],
      "metadata": {
        "id": "tsLOr9DzOhWs"
      },
      "execution_count": null,
      "outputs": []
    },
    {
      "cell_type": "code",
      "source": [
        "# Y Vine Data \n",
        "Vine_Reviews = D2_Percent_Helpful.filter(D2_Percent_Helpful[\"vine\"] == \"Y\").count()\n",
        "Vine_Reviews_5Star = D2_Percent_Helpful.filter(D2_Percent_Helpful[\"vine\"] == \"Y\").filter(D2_Percent_Helpful[\"star_rating\"] >= \"3\").count()\n",
        "Percentage_5_Star = Vine_Reviews_5Star / Vine_Reviews\n",
        "\n",
        "print(Vine_Reviews)\n",
        "print(Vine_Reviews_5Star)\n",
        "print(Percentage_5_Star)"
      ],
      "metadata": {
        "colab": {
          "base_uri": "https://localhost:8080/"
        },
        "outputId": "95971ad5-5344-4380-890f-cf18747c41b4",
        "id": "RE06zOlROh0k"
      },
      "execution_count": 11,
      "outputs": [
        {
          "output_type": "stream",
          "name": "stdout",
          "text": [
            "334\n",
            "313\n",
            "0.937125748502994\n"
          ]
        }
      ]
    },
    {
      "cell_type": "code",
      "source": [
        "# N Vine Data \n",
        "Non_Vine_Reviews = D2_Percent_Helpful.filter(D2_Percent_Helpful[\"vine\"] == \"N\").count()\n",
        "Non_Vine_Reviews_5Star = D2_Percent_Helpful.filter(D2_Percent_Helpful[\"vine\"] == \"N\").filter(D2_Percent_Helpful[\"star_rating\"] >= \"3\").count()\n",
        "Non_Percentage_5_Star = Non_Vine_Reviews_5Star / Non_Vine_Reviews\n",
        "\n",
        "print(Non_Vine_Reviews)\n",
        "print(Non_Vine_Reviews_5Star)\n",
        "print(Non_Percentage_5_Star)"
      ],
      "metadata": {
        "colab": {
          "base_uri": "https://localhost:8080/"
        },
        "id": "hVS-CDkUPP00",
        "outputId": "cc3a4be8-2b87-4d17-8e2d-26f4b8f91da8"
      },
      "execution_count": 12,
      "outputs": [
        {
          "output_type": "stream",
          "name": "stdout",
          "text": [
            "61614\n",
            "48830\n",
            "0.7925146882202097\n"
          ]
        }
      ]
    }
  ]
}